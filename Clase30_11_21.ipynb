{
  "nbformat": 4,
  "nbformat_minor": 0,
  "metadata": {
    "colab": {
      "name": "Clase30-11-21.ipynb",
      "provenance": [],
      "collapsed_sections": [],
      "authorship_tag": "ABX9TyPr3HFNOOyo1fk/0pzXeyL6",
      "include_colab_link": true
    },
    "kernelspec": {
      "name": "python3",
      "display_name": "Python 3"
    },
    "language_info": {
      "name": "python"
    }
  },
  "cells": [
    {
      "cell_type": "markdown",
      "metadata": {
        "id": "view-in-github",
        "colab_type": "text"
      },
      "source": [
        "<a href=\"https://colab.research.google.com/github/victorceddiaz/Ejercicio-en-clase-30-nov-21/blob/main/Clase30_11_21.ipynb\" target=\"_parent\"><img src=\"https://colab.research.google.com/assets/colab-badge.svg\" alt=\"Open In Colab\"/></a>"
      ]
    },
    {
      "cell_type": "markdown",
      "metadata": {
        "id": "o7__Bi8cF5R_"
      },
      "source": [
        "#Actividad-Ejercicio en clase 30-nov-21\n",
        "\n",
        "Alumno : Cedillo Díaz Victor Antonio\n",
        "\n",
        "Grupo : 1310"
      ]
    },
    {
      "cell_type": "code",
      "metadata": {
        "id": "vpk4Rd8r2lUG"
      },
      "source": [
        "class BinaryNode :\n",
        "    def __init__(self, value, left = None, right = None) :\n",
        "        self.data = value\n",
        "        self.left = left\n",
        "        self.right = right\n",
        "\n",
        "class BinarySearchTree :\n",
        "    def __init__(self) :\n",
        "        self.root = None\n",
        "    \n",
        "    def insert(self, value) :\n",
        "        if self.root == None :\n",
        "            self.root = BinaryNode(value)\n",
        "        else :\n",
        "            self.__insert_nodo(self.root, value)\n",
        "    \n",
        "    def __insert_nodo(self, nodo, value) :\n",
        "        if nodo.data == value :\n",
        "            pass\n",
        "        elif value < nodo.data : # ir a la izquierda\n",
        "            if nodo.left == None :\n",
        "                nodo.left = BinaryNode(value)\n",
        "            else :\n",
        "                self.__insert_nodo(nodo.left, value)\n",
        "        else : \n",
        "            # ir a la derecha\n",
        "            if nodo.right == None :\n",
        "                nodo.right = BinaryNode(value)\n",
        "            else :\n",
        "                self.__insert_nodo(nodo.right, value)\n",
        "    \n",
        "    def transversal(self, formato = \"posorden\") :\n",
        "        if formato == \"posorden\" :\n",
        "            self.recorrido_pos(self.root)\n",
        "        elif formato == \"preorden\" :\n",
        "            self.recorrido_pre(self.root)\n",
        "        else :\n",
        "            #inorden\n",
        "            self.recorrido_in(self.root)\n",
        "        print()\n",
        "    \n",
        "    def recorrido_pos(self, nodo) :\n",
        "        if nodo != None :\n",
        "            self.recorrido_pos(nodo.left)\n",
        "            self.recorrido_pos(nodo.right)\n",
        "            print( str(nodo.data) , end=\" , \" )\n",
        "    \n",
        "    def recorrido_pre(self, nodo) :\n",
        "        if nodo != None :\n",
        "            print( str(nodo.data) , end=\" , \" )\n",
        "            self.recorrido_pre(nodo.left)\n",
        "            self.recorrido_pre(nodo.right)\n",
        "    \n",
        "    def recorrido_in(self, nodo) :\n",
        "        if nodo != None :\n",
        "            self.recorrido_in(nodo.left)\n",
        "            print( str(nodo.data) , end=\" , \" )\n",
        "            self.recorrido_in(nodo.right)\n",
        "\n",
        "    def search(self, value) :\n",
        "        if self.root == None :\n",
        "            print(\"El árbol esta vacío.\")\n",
        "            return None\n",
        "        else :\n",
        "            self.__search(self.root, value)\n",
        "    \n",
        "    def __search(self, nodo, value) :\n",
        "        if nodo.data == None :\n",
        "            print(\"El dato no existe en el árbol.\")\n",
        "            return None\n",
        "        elif nodo.data == value :\n",
        "            print(\"Encontrado\")\n",
        "            return nodo\n",
        "        elif value < nodo.data :\n",
        "            return self.__search(nodo.left, value) \n",
        "        else :\n",
        "            return self.__search(nodo.right, value)"
      ],
      "execution_count": 32,
      "outputs": []
    },
    {
      "cell_type": "code",
      "metadata": {
        "colab": {
          "base_uri": "https://localhost:8080/"
        },
        "id": "WzVP_smC-DuS",
        "outputId": "717967b4-71ae-4f65-b59c-dec14e770bdb"
      },
      "source": [
        "arbol1 = BinarySearchTree()\n",
        "arbol1.insert(60)\n",
        "arbol1.insert(30)\n",
        "arbol1.insert(15)\n",
        "arbol1.insert(40)\n",
        "arbol1.transversal(\"posorden\")\n",
        "arbol1.transversal(\"preorden\")\n",
        "arbol1.transversal(\"inorden\")\n",
        "arbol1.search(15)"
      ],
      "execution_count": 33,
      "outputs": [
        {
          "output_type": "stream",
          "name": "stdout",
          "text": [
            "15 , 40 , 30 , 60 , \n",
            "60 , 30 , 15 , 40 , \n",
            "15 , 30 , 40 , 60 , \n",
            "Encontrado\n"
          ]
        }
      ]
    }
  ]
}